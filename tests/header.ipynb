{
 "cells": [
  {
   "cell_type": "code",
   "execution_count": 41,
   "metadata": {},
   "outputs": [],
   "source": [
    "import requests\n",
    "from bs4 import BeautifulSoup\n",
    "\n",
    "url = 'https://fr.wikipedia.org/wiki/Novak_Djokovic'\n",
    "html_text = requests.get(url).text\n",
    "soup = BeautifulSoup(html_text, 'html.parser')\n"
   ]
  },
  {
   "cell_type": "code",
   "execution_count": 45,
   "metadata": {},
   "outputs": [
    {
     "name": "stdout",
     "output_type": "stream",
     "text": [
      "('Novak Djokovic (en alphabet cyrillique serbe\\xa0: Новак Ђоковић, prononcé '\n",
      " '/ˈnɔ.vaːk ˈd͡ʑɔː.kɔ.vit͡ɕ/\\xa0; en alphabet latin serbe\\xa0: Novak Đoković '\n",
      " 'Écouter[N 1], né le 22 mai 1987 à Belgrade (Yougoslavie, actuelle Serbie), '\n",
      " 'est un joueur de tennis serbe, professionnel depuis 2003.\\n')\n",
      "(\"Considéré, avec Roger Federer et Rafael Nadal, comme l'un des meilleurs \"\n",
      " 'joueurs de tennis de tous les temps, Novak Djokovic a remporté 87\\xa0titres '\n",
      " 'en simple sur le circuit ATP, dont 20\\xa0tournois du Grand Chelem, cinq '\n",
      " \"Masters et 38\\xa0Masters 1000. En 2021, en s'imposant pour une seconde fois \"\n",
      " \"à Roland-Garros, il devient le premier joueur de l'ère Open et le troisième \"\n",
      " \"athlète masculin de l'histoire, après Roy Emerson et Rod Laver, à détenir au \"\n",
      " 'moins deux titres dans chaque levée du Grand Chelem. En 2018, il remporte le '\n",
      " \"Masters de Cincinnati, devenant ainsi le seul joueur de l'histoire du tennis \"\n",
      " 'à avoir remporté les 9\\xa0tournois de cette catégorie en simple[7]. Deux ans '\n",
      " 'plus tard, il réédite sa victoire au Masters de Cincinnati — délocalisé à '\n",
      " 'New York pour cause de pandémie de Covid-19 — et devient le premier et '\n",
      " \"unique joueur de l'histoire à avoir réalisé le Master d'or à deux reprises, \"\n",
      " 'ayant remporté au moins deux fois chacun des neuf Masters 1000. En 2021, il '\n",
      " \"s'adjuge l'Open d'Australie pour la neuvième fois, ce qui fait de lui \"\n",
      " \"l'unique recordman de titres dans ce tournoi majeur. Il remporte la médaille \"\n",
      " \"de bronze aux Jeux olympiques en 2008, la Coupe Davis avec l'équipe de \"\n",
      " \"Serbie en 2010 et la première édition de l'ATP Cup avec la Serbie en 2020. \"\n",
      " 'Vainqueur de tous les tournois du Grand Chelem et de tous les Masters 1000 '\n",
      " 'au moins deux fois ainsi que du Masters, Djokovic possède le palmarès le '\n",
      " \"plus complet de l'ère Open. Seule la médaille d'or olympique manque encore à \"\n",
      " 'son palmarès.\\n')\n"
     ]
    }
   ],
   "source": [
    "from pprint import pprint\n",
    "\n",
    "pprint(soup.findAll('p')[3].text)\n",
    "pprint(soup.findAll('p')[4].text)"
   ]
  },
  {
   "cell_type": "code",
   "execution_count": 47,
   "metadata": {},
   "outputs": [],
   "source": [
    "import requests\n",
    "headers = {\n",
    "    'User-Agent': 'Mozilla/5.0 (Macintosh; Intel Mac OS X 10.12; rv:55.0) Gecko/20100101 Firefox/55.0',\n",
    "}\n",
    "f = open('test.jpg','wb')\n",
    "f.write(requests.get('https://www.tennisabstract.com/photos/novak_djokovic-sirobi.jpg',headers=headers).content)\n",
    "f.close()"
   ]
  },
  {
   "cell_type": "code",
   "execution_count": null,
   "metadata": {},
   "outputs": [],
   "source": []
  }
 ],
 "metadata": {
  "interpreter": {
   "hash": "aee8b7b246df8f9039afb4144a1f6fd8d2ca17a180786b69acc140d282b71a49"
  },
  "kernelspec": {
   "display_name": "Python 3.9.9 64-bit",
   "language": "python",
   "name": "python3"
  },
  "language_info": {
   "codemirror_mode": {
    "name": "ipython",
    "version": 3
   },
   "file_extension": ".py",
   "mimetype": "text/x-python",
   "name": "python",
   "nbconvert_exporter": "python",
   "pygments_lexer": "ipython3",
   "version": "3.9.9"
  },
  "orig_nbformat": 4
 },
 "nbformat": 4,
 "nbformat_minor": 2
}
